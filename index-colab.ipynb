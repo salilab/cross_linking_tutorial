{
  "cells": [
    {
      "cell_type": "markdown",
      "metadata": {},
      "source": [
        "Cross-linking tutorial<a id=\"mainpage\"></a>\n",
        "======================\n",
        "\n",
        "This tutorial introduces the functionality in [IMP](https://integrativemodeling.org/) to handle cross-linking data and apply it in modeling."
      ]
    },
    {
      "cell_type": "markdown",
      "metadata": {},
      "source": [
        "The following sections introduce different aspects of cross-linking:\n",
        " - [Introduction to cross-linking](cross-link_ms-colab.ipynb)\n",
        " - [How to deal with ambiguity](cross-link_ms-ambiguity-colab.ipynb)"
      ]
    }
  ],
  "metadata": {
    "kernelspec": {
      "display_name": "Python 3",
      "language": "python",
      "name": "python3"
    },
    "language_info": {
      "codemirror_mode": {
        "name": "ipython",
        "version": 3
      },
      "file_extension": ".py",
      "mimetype": "text/x-python",
      "name": "python",
      "nbconvert_exporter": "python",
      "pygments_lexer": "ipython3",
      "version": "3.7.6"
    }
  },
  "nbformat": 4,
  "nbformat_minor": 4
}