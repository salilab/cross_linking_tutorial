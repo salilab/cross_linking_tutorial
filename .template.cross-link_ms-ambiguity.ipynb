{
 "cells": [
  {
   "cell_type": "markdown",
   "metadata": {},
   "source": [
    "%gencelloutputs\n",
    "How to deal with ambiguity {#cross-link_ms-ambiguity}\n",
    "==========================\n",
    "\n",
    "[TOC]"
   ]
  },
  {
   "cell_type": "markdown",
   "metadata": {},
   "source": [
    "%%colabexclude\n",
    "> This tutorial continues on from the [introduction to cross-linking](@file cross-link_ms) tutorial.\n"
   ]
  },
  {
   "cell_type": "markdown",
   "metadata": {},
   "source": [
    "%%colabonly\n",
    "> This tutorial continues on from the [introduction to cross-linking](@file cross-link_ms-colab) tutorial.\n"
   ]
  },
  {
   "cell_type": "markdown",
   "metadata": {},
   "source": [
    "There are several way one can deal with ambiguity of XL-MS data. Let's define the possible ambiguities:\n",
    "\n",
    " 1. cross-link identification ambiguity\n",
    " 2. compositional ambiguity\n",
    " 3. state ambiguity"
   ]
  },
  {
   "cell_type": "markdown",
   "metadata": {},
   "source": [
    "%%colabonly\n",
    "First, we need to install IMP:"
   ]
  },
  {
   "cell_type": "code",
   "execution_count": null,
   "metadata": {},
   "outputs": [],
   "source": [
    "#%%colabonly\n",
    "!echo \"deb https://integrativemodeling.org/latest/download $(lsb_release -cs)/\" > /etc/apt/sources.list.d/salilab.list\n",
    "!wget -O /etc/apt/trusted.gpg.d/salilab.asc https://salilab.org/~ben/pubkey4.asc\n",
    "!apt update\n",
    "!apt install imp\n",
    "import sys\n",
    "sys.path.append('/usr/lib/python3.6/dist-packages')"
   ]
  },
  {
   "cell_type": "code",
   "execution_count": null,
   "metadata": {},
   "outputs": [],
   "source": [
    "from __future__ import print_function\n",
    "\n",
    "import IMP\n",
    "import IMP.pmi\n",
    "import IMP.pmi.topology\n",
    "import IMP.pmi.io\n",
    "import IMP.pmi.io.crosslink"
   ]
  },
  {
   "cell_type": "markdown",
   "metadata": {
    "jupyter": {
     "outputs_hidden": false
    }
   },
   "source": [
    "# 1. Cross-link identification ambiguity"
   ]
  },
  {
   "cell_type": "markdown",
   "metadata": {
    "jupyter": {
     "outputs_hidden": false
    }
   },
   "source": [
    "There are several models on how to implement the identification ambiguity.\n",
    "\n",
    "One way to do it is to use the `UniqueID` keyword; cross-links with the same UniqueID are considered ambiguous:"
   ]
  },
  {
   "cell_type": "code",
   "execution_count": null,
   "metadata": {
    "jupyter": {
     "outputs_hidden": false
    }
   },
   "outputs": [],
   "source": [
    "xldb='''Protein 1,Protein 2,Residue 1,Residue 2,UniqueID,Score\n",
    "ProtA,ProtB,1,10,1,1.0\n",
    "ProtA,ProtB,1,11,1,2.0\n",
    "ProtA,ProtB,1,21,2,2.0\n",
    "'''\n",
    "\n",
    "with open('xlinks.csv', 'w') as xlf:\n",
    "    xlf.write(xldb)"
   ]
  },
  {
   "cell_type": "markdown",
   "metadata": {
    "jupyter": {
     "outputs_hidden": false
    }
   },
   "source": [
    "In the example above, cross-links ProtA:1-ProtB:10 and ProtA:1-ProtB:11 are ambiguous because they were assigned to the same UniqueID.\n",
    "\n",
    "Now we create a conversion map between internal keywords of xlinks features and the one in the file:"
   ]
  },
  {
   "cell_type": "code",
   "execution_count": null,
   "metadata": {
    "jupyter": {
     "outputs_hidden": false
    }
   },
   "outputs": [],
   "source": [
    "cldbkc = IMP.pmi.io.crosslink.CrossLinkDataBaseKeywordsConverter()\n",
    "cldbkc.set_protein1_key(\"Protein 1\")\n",
    "cldbkc.set_protein2_key(\"Protein 2\")\n",
    "cldbkc.set_residue1_key(\"Residue 1\")\n",
    "cldbkc.set_residue2_key(\"Residue 2\")\n",
    "cldbkc.set_unique_id_key(\"UniqueID\")\n",
    "cldbkc.set_id_score_key(\"Score\")"
   ]
  },
  {
   "cell_type": "markdown",
   "metadata": {
    "jupyter": {
     "outputs_hidden": false
    }
   },
   "source": [
    "With this keyword interpreter, let's read the cross-link database:"
   ]
  },
  {
   "cell_type": "code",
   "execution_count": null,
   "metadata": {
    "jupyter": {
     "outputs_hidden": false
    }
   },
   "outputs": [],
   "source": [
    "cldb = IMP.pmi.io.crosslink.CrossLinkDataBase(cldbkc)\n",
    "cldb.create_set_from_file(\"xlinks.csv\")"
   ]
  },
  {
   "cell_type": "markdown",
   "metadata": {
    "jupyter": {
     "outputs_hidden": false
    }
   },
   "source": [
    "Let's check that the database looks ok:"
   ]
  },
  {
   "cell_type": "code",
   "execution_count": null,
   "metadata": {
    "jupyter": {
     "outputs_hidden": false
    }
   },
   "outputs": [],
   "source": [
    "print(cldb)"
   ]
  },
  {
   "cell_type": "markdown",
   "metadata": {
    "jupyter": {
     "outputs_hidden": false
    }
   },
   "source": [
    "As you can see there are two unique indexes, 1 and 2. The first spectral index contains two identifications, with subindexes 1.1 and 1.2, corresponding to the two ambiguous restraints."
   ]
  },
  {
   "cell_type": "markdown",
   "metadata": {},
   "source": [
    "# 2. Compositional ambiguity"
   ]
  },
  {
   "cell_type": "markdown",
   "metadata": {
    "jupyter": {
     "outputs_hidden": false
    }
   },
   "source": [
    "Compositional ambiguity occurs when identical copies of the same protein are present in the sample, and we are not able to attribute the cross-link to one or the other copy.\n",
    "\n",
    "Let's suppose we already have an indentification ambiguity, to complicate the example, and see how the two ambiguities combine with each other. See the data below; note that two cross-links have the same UniqueID:"
   ]
  },
  {
   "cell_type": "code",
   "execution_count": null,
   "metadata": {
    "jupyter": {
     "outputs_hidden": false
    }
   },
   "outputs": [],
   "source": [
    "xldb='''Protein 1,Protein 2,Residue 1,Residue 2,UniqueID,Score\n",
    "ProtA,ProtB,1,10,1,1.0\n",
    "ProtA,ProtB,1,11,1,2.0\n",
    "ProtB,ProtA,21,1,2,2.0\n",
    "ProtA,ProtA,1,2,3,3.0\n",
    "'''\n",
    "\n",
    "with open('xlinks.csv', 'w') as xlf:\n",
    "    xlf.write(xldb)"
   ]
  },
  {
   "cell_type": "markdown",
   "metadata": {
    "jupyter": {
     "outputs_hidden": false
    }
   },
   "source": [
    "We will first create a database:"
   ]
  },
  {
   "cell_type": "code",
   "execution_count": null,
   "metadata": {
    "jupyter": {
     "outputs_hidden": false
    }
   },
   "outputs": [],
   "source": [
    "cldbkc = IMP.pmi.io.crosslink.CrossLinkDataBaseKeywordsConverter()\n",
    "cldbkc.set_protein1_key(\"Protein 1\")\n",
    "cldbkc.set_protein2_key(\"Protein 2\")\n",
    "cldbkc.set_residue1_key(\"Residue 1\")\n",
    "cldbkc.set_residue2_key(\"Residue 2\")\n",
    "cldbkc.set_unique_id_key(\"UniqueID\")\n",
    "cldbkc.set_id_score_key(\"Score\")\n",
    "\n",
    "cldb = IMP.pmi.io.crosslink.CrossLinkDataBase(cldbkc)\n",
    "cldb.create_set_from_file(\"xlinks.csv\")"
   ]
  },
  {
   "cell_type": "markdown",
   "metadata": {
    "jupyter": {
     "outputs_hidden": false
    }
   },
   "source": [
    "Now, we know that there are two copies of ProtA, which we called ProtA.1 and ProtA.2 in our IMP ``~IMP.atom.Hierarchy``. Let's rename ProtA into ProtA.1 for both ends of each cross-link:"
   ]
  },
  {
   "cell_type": "code",
   "execution_count": null,
   "metadata": {
    "jupyter": {
     "outputs_hidden": false
    }
   },
   "outputs": [],
   "source": [
    "from IMP.pmi.io.crosslink import FilterOperator as FO\n",
    "import operator\n",
    "\n",
    "fo1 = FO(cldb.protein1_key, operator.eq, \"ProtA\")\n",
    "cldb.set_value(cldb.protein1_key, \"ProtA.1\", fo1)\n",
    "fo2 = FO(cldb.protein2_key, operator.eq, \"ProtA\")\n",
    "cldb.set_value(cldb.protein2_key, \"ProtA.1\", fo2)"
   ]
  },
  {
   "cell_type": "markdown",
   "metadata": {
    "jupyter": {
     "outputs_hidden": false
    }
   },
   "source": [
    "Next we clone all cross-links involving ProtA.1 so that they were observed also by ProtA.2:"
   ]
  },
  {
   "cell_type": "code",
   "execution_count": null,
   "metadata": {
    "jupyter": {
     "outputs_hidden": false
    }
   },
   "outputs": [],
   "source": [
    "cldb.clone_protein(\"ProtA.1\", \"ProtA.2\")"
   ]
  },
  {
   "cell_type": "markdown",
   "metadata": {
    "jupyter": {
     "outputs_hidden": false
    }
   },
   "source": [
    "Let's check that the database looks OK:"
   ]
  },
  {
   "cell_type": "code",
   "execution_count": null,
   "metadata": {
    "jupyter": {
     "outputs_hidden": false
    }
   },
   "outputs": [],
   "source": [
    "print(cldb)"
   ]
  },
  {
   "cell_type": "markdown",
   "metadata": {
    "jupyter": {
     "outputs_hidden": false
    }
   },
   "source": [
    "As you can see there are three unique indexes, 1, 2 and 3. The first index contains four cross-links, \n",
    "the second two cross-links and the third four cross-links."
   ]
  }
 ],
 "metadata": {
  "kernelspec": {
   "display_name": "Python 3",
   "language": "python",
   "name": "python3"
  },
  "language_info": {
   "codemirror_mode": {
    "name": "ipython",
    "version": 3
   },
   "file_extension": ".py",
   "mimetype": "text/x-python",
   "name": "python",
   "nbconvert_exporter": "python",
   "pygments_lexer": "ipython3",
   "version": "3.7.6"
  }
 },
 "nbformat": 4,
 "nbformat_minor": 4
}
