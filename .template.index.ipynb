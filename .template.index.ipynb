{
 "cells": [
  {
   "cell_type": "markdown",
   "metadata": {},
   "source": [
    "Cross-linking tutorial {#mainpage}\n",
    "======================\n",
    "\n",
    "This tutorial introduces the functionality in [IMP](https://integrativemodeling.org/) to handle cross-linking data and apply it in modeling.\n",
    "\n",
    "- [Introduction to cross-linking](@file cross-link_ms)\n",
    "\n",
    "- [How to deal with ambiguity](@file cross-link_ms-ambiguity)\n"
   ]
  }
 ],
 "metadata": {
  "kernelspec": {
   "display_name": "Python 3",
   "language": "python",
   "name": "python3"
  },
  "language_info": {
   "codemirror_mode": {
    "name": "ipython",
    "version": 3
   },
   "file_extension": ".py",
   "mimetype": "text/x-python",
   "name": "python",
   "nbconvert_exporter": "python",
   "pygments_lexer": "ipython3",
   "version": "3.7.6"
  }
 },
 "nbformat": 4,
 "nbformat_minor": 4
}
