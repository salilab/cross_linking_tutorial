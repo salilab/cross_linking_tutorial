{
 "cells": [
  {
   "cell_type": "markdown",
   "metadata": {},
   "source": [
    "Cross-linking tutorial {#mainpage}\n",
    "======================\n",
    "\n",
    "This tutorial introduces the functionality in [IMP](https://integrativemodeling.org/) to handle cross-linking data and apply it in modeling."
   ]
  },
  {
   "cell_type": "markdown",
   "metadata": {},
   "source": [
    "%%htmlonly\n",
    "\n",
    "This tutorial can be followed in several ways:\n",
    "\n",
    " - Paste the Python code seen in this text into a Python console.\n",
    " - [Download the files from GitHub](https://github.com/salilab/cross_linking_tutorial/) and, using [Jupyter Notebook](https://jupyter.org/), open the notebook `index.ipynb`.\n",
    " - [Load the tutorial directly in your browser](https://colab.research.google.com/github/salilab/cross_linking_tutorial/blob/main/index-colab.ipynb), courtesy of [Google Colaboratory](https://colab.research.google.com/). (This needs no software installed on your machine, but may take a while to load.)"
   ]
  },
  {
   "cell_type": "markdown",
   "metadata": {},
   "source": [
    "%%colabexclude\n",
    "The following sections introduce different aspects of cross-linking:\n",
    " - [Introduction to cross-linking](@file cross-link_ms)\n",
    " - [How to deal with ambiguity](@file cross-link_ms-ambiguity)"
   ]
  },
  {
   "cell_type": "markdown",
   "metadata": {},
   "source": [
    "%%colabonly\n",
    "The following sections introduce different aspects of cross-linking:\n",
    " - [Introduction to cross-linking](@file cross-link_ms-colab)\n",
    " - [How to deal with ambiguity](@file cross-link_ms-ambiguity-colab)"
   ]
  }
 ],
 "metadata": {
  "kernelspec": {
   "display_name": "Python 3",
   "language": "python",
   "name": "python3"
  },
  "language_info": {
   "codemirror_mode": {
    "name": "ipython",
    "version": 3
   },
   "file_extension": ".py",
   "mimetype": "text/x-python",
   "name": "python",
   "nbconvert_exporter": "python",
   "pygments_lexer": "ipython3",
   "version": "3.7.6"
  }
 },
 "nbformat": 4,
 "nbformat_minor": 4
}
